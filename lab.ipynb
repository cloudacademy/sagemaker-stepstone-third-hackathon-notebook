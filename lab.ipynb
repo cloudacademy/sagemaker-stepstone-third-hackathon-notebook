{
 "cells": [
  {
   "cell_type": "markdown",
   "metadata": {},
   "source": [
    "### Introduction\n",
    "\n",
    "This lab environment allows access to the following models:\n",
    "\n",
    "- A selection of Amazon Bedrock models.\n",
    "- The Flan T5 Base model."
   ]
  },
  {
   "cell_type": "markdown",
   "metadata": {},
   "source": [
    "#### Installing, Upgrading, and Importing Dependencies\n",
    "\n",
    "The following cells use the `pip` Python package manager to install `boto3` and `pandas` before importing them."
   ]
  },
  {
   "cell_type": "code",
   "execution_count": null,
   "metadata": {},
   "outputs": [],
   "source": [
    "!pip install --upgrade boto3 pandas"
   ]
  },
  {
   "cell_type": "code",
   "execution_count": 36,
   "metadata": {},
   "outputs": [],
   "source": [
    "import boto3\n",
    "import json\n",
    "from IPython.display import JSON"
   ]
  },
  {
   "cell_type": "markdown",
   "metadata": {},
   "source": [
    "#### Bedrock\n",
    "\n",
    "The following is an example of invoking the Titan Premier model using the Amazon Bedrock API. "
   ]
  },
  {
   "cell_type": "code",
   "execution_count": 37,
   "metadata": {},
   "outputs": [],
   "source": [
    "\n",
    "\n",
    "def invoke_bedrock_model(model_id, prompt, options={}):\n",
    "    bedrock = boto3.client(\"bedrock-runtime\", region_name=\"us-east-1\")\n",
    "\n",
    "    body = {\n",
    "        \"inputText\": prompt, \n",
    "    }\n",
    "    \n",
    "    response = bedrock.invoke_model(\n",
    "        modelId=model_id,\n",
    "        accept=\"application/json\",\n",
    "        contentType=\"application/json\",\n",
    "        body=json.dumps(body)\n",
    "    )\n",
    "    \n",
    "    return response['body'].read()\n",
    "\n"
   ]
  },
  {
   "cell_type": "code",
   "execution_count": null,
   "metadata": {},
   "outputs": [],
   "source": [
    "\n",
    "response = invoke_bedrock_model(\"amazon.titan-text-premier-v1:0\", \"Explain the main differences between supervised and unsupervised learning.\")\n",
    "print(response)\n",
    "print(json.loads(response))\n",
    "JSON(json.loads(response), expanded=True)"
   ]
  },
  {
   "cell_type": "markdown",
   "metadata": {},
   "source": [
    "*Notes*:\n",
    "\n",
    "- You can use a different model by supplying a different `model_id`.\n",
    "- Different models use different body formats. You will need to modify the function above to use a different model.\n",
    "- Options such as `top_k` and `temperature` can be added to the `body`."
   ]
  },
  {
   "cell_type": "markdown",
   "metadata": {},
   "source": [
    "#### SageMaker Flan-T5-Base\n",
    "\n",
    "The following is an example of invoking the [flan-t5-base](https://huggingface.co/google/flan-t5-base) model using the Amazon SageMaker AI API."
   ]
  },
  {
   "cell_type": "code",
   "execution_count": 39,
   "metadata": {},
   "outputs": [],
   "source": [
    "def invoke_sagemaker_endpoint(endpoint_name, request_data):\n",
    "\n",
    "    sagemaker_runtime = boto3.client(\"sagemaker-runtime\", region_name=\"us-east-1\")\n",
    "    payload = json.dumps(request_data)\n",
    "\n",
    "    response = sagemaker_runtime.invoke_endpoint(\n",
    "        EndpointName=endpoint_name,\n",
    "        ContentType=\"application/json\",  # The MIME type of your request payload\n",
    "        Body=payload\n",
    "    )\n",
    "    \n",
    "    return response[\"Body\"].read().decode(\"utf-8\")"
   ]
  },
  {
   "cell_type": "code",
   "execution_count": null,
   "metadata": {},
   "outputs": [],
   "source": [
    "endpoint_name = \"qa-flan-t5-base\"\n",
    "response = invoke_sagemaker_endpoint(endpoint_name=endpoint_name, request_data={\"inputs\": \"Explain the main differences between supervised and unsupervised learning.\"})\n",
    "print(response)\n",
    "JSON(json.loads(str(response)))"
   ]
  },
  {
   "cell_type": "markdown",
   "metadata": {},
   "source": [
    "*Notes*:\n",
    "\n",
    "- The Flan T5 Base model has been deployed on a `ml.g5.2xlarge` instance."
   ]
  },
  {
   "cell_type": "markdown",
   "metadata": {},
   "source": [
    "### Accessing the Billsum Dataset\n",
    "\n",
    "The following cells download a copy of the [FiscalNote/billsum](https://huggingface.co/datasets/FiscalNote/billsum) dataset, extracts it, and loads it into a Pandas data frame."
   ]
  },
  {
   "cell_type": "code",
   "execution_count": null,
   "metadata": {},
   "outputs": [],
   "source": [
    "!curl -sL \"https://assets.labs.platform.qa.com/stepstone-ai-academy-third-hackathon/billsum.zip\" -o ./billsum.zip\n",
    "!unzip billsum.zip"
   ]
  },
  {
   "cell_type": "code",
   "execution_count": null,
   "metadata": {},
   "outputs": [],
   "source": [
    "import pandas as pd\n",
    "df = pd.read_parquet(\"data/train-00000-of-00001.parquet\")\n",
    "print(df.head())"
   ]
  }
 ],
 "metadata": {
  "kernelspec": {
   "display_name": "3.12.7",
   "language": "python",
   "name": "python3"
  },
  "language_info": {
   "codemirror_mode": {
    "name": "ipython",
    "version": 3
   },
   "file_extension": ".py",
   "mimetype": "text/x-python",
   "name": "python",
   "nbconvert_exporter": "python",
   "pygments_lexer": "ipython3",
   "version": "3.12.7"
  }
 },
 "nbformat": 4,
 "nbformat_minor": 2
}
