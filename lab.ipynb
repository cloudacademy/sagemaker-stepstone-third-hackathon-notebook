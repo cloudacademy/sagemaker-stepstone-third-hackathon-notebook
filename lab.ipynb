{
 "cells": [
  {
   "cell_type": "markdown",
   "metadata": {},
   "source": [
    "### Introduction\n",
    "\n",
    "This lab environment allows access to the following models:\n",
    "\n",
    "- A selection of Amazon Bedrock models.\n",
    "- The Flan T5 Base model."
   ]
  },
  {
   "cell_type": "markdown",
   "metadata": {},
   "source": [
    "#### Installing, Upgrading, and Importing Dependencies\n",
    "\n",
    "The following cells use the `pip` Python package manager to install `boto3` and `pandas` before importing them."
   ]
  },
  {
   "cell_type": "code",
   "execution_count": null,
   "metadata": {},
   "outputs": [],
   "source": [
    "!pip install --upgrade boto3 pandas"
   ]
  },
  {
   "cell_type": "code",
   "execution_count": 55,
   "metadata": {},
   "outputs": [],
   "source": [
    "import boto3\n",
    "import json\n",
    "from IPython.display import JSON"
   ]
  },
  {
   "cell_type": "markdown",
   "metadata": {},
   "source": [
    "#### Bedrock\n",
    "\n",
    "The following is an example of invoking the Nova Lite model using the Amazon Bedrock API. "
   ]
  },
  {
   "cell_type": "code",
   "execution_count": 68,
   "metadata": {},
   "outputs": [],
   "source": [
    "def invoke_bedrock_model(model_id, prompt, options={}):\n",
    "    bedrock = boto3.client(\"bedrock-runtime\", region_name=\"us-west-2\")\n",
    "\n",
    "    body = {\n",
    "        \"schemaVersion\": \"messages-v1\",\n",
    "        \"messages\": [{ 'role': \"user\", 'content': [{'text': prompt}]}],\n",
    "    }\n",
    "\n",
    "    response = bedrock.invoke_model(\n",
    "        modelId=model_id,\n",
    "        accept=\"application/json\",\n",
    "        contentType=\"application/json\",\n",
    "        body=json.dumps(body)\n",
    "    )\n",
    "\n",
    "    return response['body'].read()\n",
    "\n"
   ]
  },
  {
   "cell_type": "code",
   "execution_count": null,
   "metadata": {},
   "outputs": [],
   "source": [
    "response = invoke_bedrock_model(\"us.amazon.nova-lite-v1:0\", \"Explain the main differences between supervised and unsupervised learning.\")\n",
    "JSON(json.loads(response), expanded=True)"
   ]
  },
  {
   "cell_type": "markdown",
   "metadata": {},
   "source": [
    "*Notes*:\n",
    "\n",
    "- You can use a different model by supplying a different `model_id`.\n",
    "- Different models use different body formats. You will need to modify the `invoke_bedrock_model` to use a different model.\n",
    "- Options such as `top_k` and `temperature` can be added to the `body`."
   ]
  },
  {
   "cell_type": "markdown",
   "metadata": {},
   "source": [
    "#### Bedrock with a Streaming Response\n",
    "\n"
   ]
  },
  {
   "cell_type": "code",
   "execution_count": 98,
   "metadata": {},
   "outputs": [],
   "source": [
    "def invoke_bedrock_model_with_streaming(model_id, prompt, options={}):\n",
    "    bedrock = boto3.client(\"bedrock-runtime\", region_name=\"us-west-2\")\n",
    "\n",
    "    body = {\n",
    "        \"schemaVersion\": \"messages-v1\",\n",
    "        \"messages\": [{ 'role': \"user\", 'content': [{'text': prompt}]}],\n",
    "    }\n",
    "\n",
    "    response = bedrock.invoke_model_with_response_stream(\n",
    "        modelId=model_id,\n",
    "        accept=\"application/json\",\n",
    "        contentType=\"application/json\",\n",
    "        body=json.dumps(body)\n",
    "    )\n",
    "\n",
    "    for event in response.get('body', []):\n",
    "        #print(event)\n",
    "        chunk = event.get('chunk', [])\n",
    "        #print(chunk)\n",
    "        if chunk:\n",
    "            chunk_json = json.loads(chunk.get('bytes').decode())\n",
    "            #print(json.dumps(chunk_json, indent=2, ensure_ascii=False))\n",
    "            print(chunk_json.get(\"contentBlockDelta\", {}).get(\"delta\", {}).get(\"text\", \"\"), end=\"\")\n"
   ]
  },
  {
   "cell_type": "code",
   "execution_count": 99,
   "metadata": {},
   "outputs": [
    {
     "name": "stdout",
     "output_type": "stream",
     "text": [
      "Supervised and unsupervised learning are two fundamental paradigms in the field of machine learning, and they differ primarily in their approach to learning from data. Here's a detailed comparison:\n",
      "\n",
      "### Supervised Learning\n",
      "\n",
      "**Definition**:\n",
      "Supervised learning involves training a model on a labeled dataset, where each example in the dataset includes an input and the corresponding correct output. The goal is to learn a mapping from inputs to outputs that can generalize to new, unseen data.\n",
      "\n",
      "**Key Characteristics**:\n",
      "1. **Labeled Data**: The training data consists of input-output pairs.\n",
      "2. **Task Types**: Typically used for tasks such as classification (e.g., spam detection, image recognition) and regression (e.g., predicting house prices, stock prices).\n",
      "3. **Model Training**: The model learns by minimizing the error between its predictions and the actual labels provided in the training data.\n",
      "4. **Evaluation**: Performance is evaluated using metrics specific to the task, such as accuracy, precision, recall, F1 score for classification, and mean squared error for regression.\n",
      "5. **Common Algorithms**: Decision trees, support vector machines, k-nearest neighbors, linear regression, neural networks, etc.\n",
      "\n",
      "### Unsupervised Learning\n",
      "\n",
      "**Definition**:\n",
      "Unsupervised learning involves training a model on a dataset that does not have labeled responses. The goal is to infer the natural structure present within a set of data points.\n",
      "\n",
      "**Key Characteristics**:\n",
      "1. **Unlabeled Data**: The training data consists of input data without corresponding target outputs.\n",
      "2. **Task Types**: Typically used for tasks such as clustering (e.g., customer segmentation, image segmentation), dimensionality reduction (e.g., PCA, t-SNE), and association (e.g., market basket analysis).\n",
      "3. **Model Training**: The model learns to identify hidden patterns or data groupings without explicit instructions on what to look for.\n",
      "4. **Evaluation**: Performance can be harder to evaluate compared to supervised learning. Metrics may include silhouette score for clustering, or reconstruction error for dimensionality reduction tasks.\n",
      "5. **Common Algorithms**: K-means clustering, hierarchical clustering, principal component analysis (PCA), t-distributed stochastic neighbor embedding (t-SNE), autoencoders, etc.\n",
      "\n",
      "### Main Differences\n",
      "\n",
      "1. **Data Requirements**:\n",
      "   - **Supervised Learning**: Requires labeled data (input-output pairs).\n",
      "   - **Unsupervised Learning**: Requires only input data (no labels).\n",
      "\n",
      "2. **Learning Objective**:\n",
      "   - **Supervised Learning**: Learn to map inputs to outputs based on example input-output pairs.\n",
      "   - **Unsupervised Learning**: Discover hidden patterns or intrinsic structures in the input data.\n",
      "\n",
      "3. **Evaluation Metrics**:\n",
      "   - **Supervised Learning**: Uses metrics like accuracy, precision, recall, F1 score for classification tasks; mean squared error, R² for regression tasks.\n",
      "   - **Unsupervised Learning**: Uses metrics like silhouette score, Davies-Bouldin index for clustering; reconstruction error for dimensionality reduction.\n",
      "\n",
      "4. **Common Use Cases**:\n",
      "   - **Supervised Learning**: Image classification, sentiment analysis, fraud detection.\n",
      "   - **Unsupervised Learning**: Customer segmentation, anomaly detection, recommendation systems.\n",
      "\n",
      "5. **Complexity**:\n",
      "   - **Supervised Learning**: Often more straightforward to implement and evaluate due to the presence of labels.\n",
      "   - **Unsupervised Learning**: Can be more complex due to the lack of explicit guidance on what patterns to find.\n",
      "\n",
      "Understanding these differences is crucial for selecting the appropriate machine learning approach for a given problem."
     ]
    }
   ],
   "source": [
    "invoke_bedrock_model_with_streaming(\"us.amazon.nova-lite-v1:0\", \"Explain the main differences between supervised and unsupervised learning.\")"
   ]
  },
  {
   "cell_type": "markdown",
   "metadata": {},
   "source": [
    "#### SageMaker Flan-T5-Base\n",
    "\n",
    "The following is an example of invoking the [flan-t5-base](https://huggingface.co/google/flan-t5-base) model using the Amazon SageMaker AI API."
   ]
  },
  {
   "cell_type": "code",
   "execution_count": 39,
   "metadata": {},
   "outputs": [],
   "source": [
    "def invoke_sagemaker_endpoint(endpoint_name, request_data):\n",
    "    sagemaker_runtime = boto3.client(\"sagemaker-runtime\", region_name=\"us-west-2\")\n",
    "    payload = json.dumps(request_data)\n",
    "\n",
    "    response = sagemaker_runtime.invoke_endpoint(\n",
    "        EndpointName=endpoint_name,\n",
    "        ContentType=\"application/json\",  # The MIME type of your request payload\n",
    "        Body=payload\n",
    "    )\n",
    "\n",
    "    return response[\"Body\"].read().decode(\"utf-8\")"
   ]
  },
  {
   "cell_type": "code",
   "execution_count": null,
   "metadata": {},
   "outputs": [],
   "source": [
    "endpoint_name = \"qa-flan-t5-base\"\n",
    "response = invoke_sagemaker_endpoint(endpoint_name=endpoint_name, request_data={\"inputs\": \"Explain the main differences between supervised and unsupervised learning.\"})\n",
    "JSON(json.loads(response), expanded=True)"
   ]
  },
  {
   "cell_type": "markdown",
   "metadata": {},
   "source": [
    "*Notes*:\n",
    "\n",
    "- The Flan T5 Base model has been deployed on a `ml.g5.2xlarge` instance."
   ]
  },
  {
   "cell_type": "markdown",
   "metadata": {},
   "source": [
    "### Accessing the Billsum Dataset\n",
    "\n",
    "The following cells download a copy of the [FiscalNote/billsum](https://huggingface.co/datasets/FiscalNote/billsum) dataset, extracts it, and loads it into a Pandas data frame."
   ]
  },
  {
   "cell_type": "code",
   "execution_count": null,
   "metadata": {},
   "outputs": [],
   "source": [
    "!curl -sL \"https://assets.labs.platform.qa.com/stepstone-ai-academy-third-hackathon/billsum.zip\" -o ./billsum.zip\n",
    "!unzip -n billsum.zip"
   ]
  },
  {
   "cell_type": "code",
   "execution_count": null,
   "metadata": {},
   "outputs": [],
   "source": [
    "import pandas as pd\n",
    "df = pd.read_parquet(\"data/train-00000-of-00001.parquet\")\n",
    "print(df.head())"
   ]
  }
 ],
 "metadata": {
  "kernelspec": {
   "display_name": "3.12.7",
   "language": "python",
   "name": "python3"
  },
  "language_info": {
   "codemirror_mode": {
    "name": "ipython",
    "version": 3
   },
   "file_extension": ".py",
   "mimetype": "text/x-python",
   "name": "python",
   "nbconvert_exporter": "python",
   "pygments_lexer": "ipython3",
   "version": "3.12.7"
  }
 },
 "nbformat": 4,
 "nbformat_minor": 2
}
