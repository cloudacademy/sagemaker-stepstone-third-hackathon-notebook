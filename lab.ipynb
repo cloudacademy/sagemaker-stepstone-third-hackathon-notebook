{
 "cells": [
  {
   "cell_type": "markdown",
   "metadata": {},
   "source": [
    "### Introduction\n",
    "\n",
    "This lab environment allows access to the following models:\n",
    "\n",
    "- A selection of Amazon Bedrock models.\n",
    "- The Flan T5 Base model."
   ]
  },
  {
   "cell_type": "markdown",
   "metadata": {},
   "source": [
    "#### Installing, Upgrading, and Importing Dependencies\n",
    "\n",
    "The following cells use the `pip` Python package manager to install `boto3` and `pandas` before importing them."
   ]
  },
  {
   "cell_type": "code",
   "execution_count": null,
   "metadata": {},
   "outputs": [],
   "source": [
    "!pip install --upgrade boto3 pandas"
   ]
  },
  {
   "cell_type": "code",
   "execution_count": 55,
   "metadata": {},
   "outputs": [],
   "source": [
    "import boto3\n",
    "import json\n",
    "from IPython.display import JSON\n",
    "region='us-west-2'"
   ]
  },
  {
   "cell_type": "markdown",
   "metadata": {},
   "source": [
    "#### Bedrock\n",
    "\n",
    "The following is an example of invoking the Nova Micro model using the Amazon Bedrock API. "
   ]
  },
  {
   "cell_type": "code",
   "execution_count": 68,
   "metadata": {},
   "outputs": [],
   "source": [
    "def invoke_bedrock_model(model_id, prompt):\n",
    "    bedrock = boto3.client(\"bedrock-runtime\", region_name=region)\n",
    "\n",
    "    body = {\n",
    "        \"schemaVersion\": \"messages-v1\",\n",
    "        \"messages\": [{ 'role': \"user\", 'content': [{'text': prompt}]}],\n",
    "    }\n",
    "\n",
    "    response = bedrock.invoke_model(\n",
    "        modelId=model_id,\n",
    "        accept=\"application/json\",\n",
    "        contentType=\"application/json\",\n",
    "        body=json.dumps(body)\n",
    "    )\n",
    "\n",
    "    return response['body'].read()\n",
    "\n"
   ]
  },
  {
   "cell_type": "code",
   "execution_count": null,
   "metadata": {},
   "outputs": [],
   "source": [
    "response = invoke_bedrock_model(\"us.amazon.nova-micro-v1:0\", \"Explain the main differences between supervised and unsupervised learning.\")\n",
    "JSON(json.loads(response), expanded=True)"
   ]
  },
  {
   "cell_type": "markdown",
   "metadata": {},
   "source": [
    "*Notes*:\n",
    "\n",
    "- You can use a different model by supplying a different `model_id`.\n",
    "- Different models use different body formats. You will need to modify the `invoke_bedrock_model` to use a different model.\n",
    "- Options such as `top_k` and `temperature` can be added to the `body`."
   ]
  },
  {
   "cell_type": "markdown",
   "metadata": {},
   "source": [
    "#### Bedrock with a Streaming Response\n",
    "\n",
    "The following is an example of invoking the Nova Micro Amazon Bedrock model and processing a streaming response."
   ]
  },
  {
   "cell_type": "code",
   "execution_count": 98,
   "metadata": {},
   "outputs": [],
   "source": [
    "def invoke_bedrock_model_with_streaming(model_id, prompt):\n",
    "    bedrock = boto3.client(\"bedrock-runtime\", region_name=region)\n",
    "\n",
    "    body = {\n",
    "        \"schemaVersion\": \"messages-v1\",\n",
    "        \"messages\": [{ 'role': \"user\", 'content': [{'text': prompt}]}],\n",
    "    }\n",
    "\n",
    "    response = bedrock.invoke_model_with_response_stream(\n",
    "        modelId=model_id,\n",
    "        accept=\"application/json\",\n",
    "        contentType=\"application/json\",\n",
    "        body=json.dumps(body)\n",
    "    )\n",
    "\n",
    "    for event in response.get('body', []):\n",
    "        #print(event)\n",
    "        chunk = event.get('chunk', [])\n",
    "        #print(chunk)\n",
    "        if chunk:\n",
    "            chunk_json = json.loads(chunk.get('bytes').decode())\n",
    "            #print(json.dumps(chunk_json, indent=2, ensure_ascii=False))\n",
    "            print(chunk_json.get(\"contentBlockDelta\", {}).get(\"delta\", {}).get(\"text\", \"\"), end=\"\")\n"
   ]
  },
  {
   "cell_type": "code",
   "execution_count": null,
   "metadata": {},
   "outputs": [],
   "source": [
    "invoke_bedrock_model_with_streaming(\"us.amazon.nova-micro-v1:0\", \"Explain the main differences between supervised and unsupervised learning.\")"
   ]
  },
  {
   "cell_type": "markdown",
   "metadata": {},
   "source": [
    "#### SageMaker Flan-T5-Base\n",
    "\n",
    "The following is an example of invoking the [flan-t5-base](https://huggingface.co/google/flan-t5-base) model using the Amazon SageMaker AI API."
   ]
  },
  {
   "cell_type": "code",
   "execution_count": 39,
   "metadata": {},
   "outputs": [],
   "source": [
    "def invoke_sagemaker_endpoint(endpoint_name, request_data):\n",
    "    sagemaker_runtime = boto3.client(\"sagemaker-runtime\", region_name=region)\n",
    "    payload = json.dumps(request_data)\n",
    "\n",
    "    response = sagemaker_runtime.invoke_endpoint(\n",
    "        EndpointName=endpoint_name,\n",
    "        ContentType=\"application/json\",  # The MIME type of your request payload\n",
    "        Body=payload\n",
    "    )\n",
    "\n",
    "    return response[\"Body\"].read().decode(\"utf-8\")"
   ]
  },
  {
   "cell_type": "code",
   "execution_count": null,
   "metadata": {},
   "outputs": [],
   "source": [
    "endpoint_name = \"qa-flan-t5-base\"\n",
    "response = invoke_sagemaker_endpoint(endpoint_name=endpoint_name, request_data={\"inputs\": \"Explain the main differences between supervised and unsupervised learning.\"})\n",
    "JSON(json.loads(response), expanded=True)"
   ]
  },
  {
   "cell_type": "markdown",
   "metadata": {},
   "source": [
    "*Notes*:\n",
    "\n",
    "- The Flan T5 Base model has been deployed on a `ml.g5.2xlarge` instance."
   ]
  },
  {
   "cell_type": "markdown",
   "metadata": {},
   "source": [
    "### Accessing the Billsum Dataset\n",
    "\n",
    "The following cells download a copy of the [FiscalNote/billsum](https://huggingface.co/datasets/FiscalNote/billsum) dataset, extracts it, and loads it into a Pandas data frame."
   ]
  },
  {
   "cell_type": "code",
   "execution_count": null,
   "metadata": {},
   "outputs": [],
   "source": [
    "!curl -sL \"https://assets.labs.platform.qa.com/stepstone-ai-academy-third-hackathon/billsum.zip\" -o ./billsum.zip\n",
    "!unzip -n billsum.zip"
   ]
  },
  {
   "cell_type": "code",
   "execution_count": null,
   "metadata": {},
   "outputs": [],
   "source": [
    "import pandas as pd\n",
    "df = pd.read_parquet(\"data/train-00000-of-00001.parquet\")\n",
    "print(df.head())"
   ]
  }
 ],
 "metadata": {
  "kernelspec": {
   "display_name": "conda_python3",
   "language": "python",
   "name": "conda_python3"
  },
  "language_info": {
   "codemirror_mode": {
    "name": "ipython",
    "version": 3
   },
   "file_extension": ".py",
   "mimetype": "text/x-python",
   "name": "python",
   "nbconvert_exporter": "python",
   "pygments_lexer": "ipython3",
   "version": "3.12.7"
  }
 },
 "nbformat": 4,
 "nbformat_minor": 2
}
